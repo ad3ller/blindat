{
 "cells": [
  {
   "cell_type": "code",
   "execution_count": 1,
   "id": "e87822be-a475-4ab8-9ba0-04d4d7497e1f",
   "metadata": {},
   "outputs": [],
   "source": [
    "import numpy as np\n",
    "import pandas as pd\n",
    "import blindat as bd"
   ]
  },
  {
   "cell_type": "markdown",
   "id": "38024ae0",
   "metadata": {},
   "source": [
    "Create a `pandas.DataFrame()` with four columns of random data:\n"
   ]
  },
  {
   "cell_type": "code",
   "execution_count": null,
   "id": "372a175a-e2c9-4384-b006-113c36800bf3",
   "metadata": {},
   "outputs": [],
   "source": [
    "# data params\n",
    "COLUMNS = [\"A\", \"B\", \"C\", \"D\"]\n",
    "NUM_ROWS = int(1e7)\n",
    "DATA_SEED = 19421127\n",
    "\n",
    "# generate data\n",
    "np.random.seed(DATA_SEED)\n",
    "data = np.random.rand(NUM_ROWS, len(COLUMNS))\n",
    "df = pd.DataFrame(data, columns=COLUMNS)\n",
    "\n",
    "df.head()"
   ]
  },
  {
   "cell_type": "markdown",
   "id": "a18d2d8c",
   "metadata": {},
   "source": [
    "### `generate_rules()`\n",
    "\n",
    "Rules are defined by a specification that describes which columns to blind using a linear transform: `blinded_data = scale * data + offset`.  \n",
    "\n",
    "The `offset` and `scale` parameters can be fixed or randomly sampled from a given range.  Randomness ensures the transform is not known to the user.\n",
    "\n",
    "The simplest way to specify rules is with a column name (or a list of names) and global ranges for `offset` and/or `scale`."
   ]
  },
  {
   "cell_type": "code",
   "execution_count": 3,
   "id": "a2c57983-8204-48af-94e9-ed6e568ea055",
   "metadata": {},
   "outputs": [],
   "source": [
    "# list of columns with global offset and scale ranges\n",
    "rules = bd.generate_rules(\"A\", offset=(10.0, 20.0), random_seed=42)"
   ]
  },
  {
   "cell_type": "markdown",
   "id": "92a9040c",
   "metadata": {},
   "source": [
    "### `inspect()`\n",
    "\n",
    "You shouldn't be looking at the rule parameters.  But maybe you have a legit reason, in which case, use `inspect()`."
   ]
  },
  {
   "cell_type": "code",
   "execution_count": null,
   "id": "bbe82b03-770b-4265-aa6d-9c6030c861dc",
   "metadata": {},
   "outputs": [],
   "source": [
    "bd.inspect(rules)"
   ]
  },
  {
   "cell_type": "markdown",
   "id": "bbe5ca54",
   "metadata": {},
   "source": [
    "It's not necessary to save the rules because they can be recreated by fixing the `random_seed`.  But if you really want to store them, consider using `dill` (regular pickling doesn't work with lambda functions).  Or you could save the output of `inspect()`.\n"
   ]
  },
  {
   "cell_type": "markdown",
   "id": "6c5b63d8",
   "metadata": {},
   "source": [
    "###  `blind()`"
   ]
  },
  {
   "cell_type": "code",
   "execution_count": null,
   "id": "b2160833-4d44-4014-a84d-23f3b167e0ae",
   "metadata": {},
   "outputs": [],
   "source": [
    "# blind data\n",
    "df1 = bd.blind(df, rules)\n",
    "df1.head()"
   ]
  },
  {
   "cell_type": "code",
   "execution_count": null,
   "id": "2675964c-a511-4e9a-a123-fb4b8b6b8a45",
   "metadata": {},
   "outputs": [],
   "source": []
  }
 ],
 "metadata": {
  "kernelspec": {
   "display_name": "sci",
   "language": "python",
   "name": "python3"
  },
  "language_info": {
   "codemirror_mode": {
    "name": "ipython",
    "version": 3
   },
   "file_extension": ".py",
   "mimetype": "text/x-python",
   "name": "python",
   "nbconvert_exporter": "python",
   "pygments_lexer": "ipython3",
   "version": "3.13.2"
  }
 },
 "nbformat": 4,
 "nbformat_minor": 5
}
