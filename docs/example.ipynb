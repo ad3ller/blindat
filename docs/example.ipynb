{
 "cells": [
  {
   "cell_type": "code",
   "execution_count": null,
   "id": "e87822be-a475-4ab8-9ba0-04d4d7497e1f",
   "metadata": {},
   "outputs": [],
   "source": [
    "import numpy as np\n",
    "import pandas as pd\n",
    "import blindat as bd"
   ]
  },
  {
   "cell_type": "markdown",
   "id": "38024ae0",
   "metadata": {},
   "source": [
    "Create a `pandas.DataFrame()` with four columns of random data:\n"
   ]
  },
  {
   "cell_type": "code",
   "execution_count": null,
   "id": "372a175a-e2c9-4384-b006-113c36800bf3",
   "metadata": {},
   "outputs": [],
   "source": [
    "# data params\n",
    "COLUMNS = [\"A\", \"B\", \"C\", \"D\"]\n",
    "NUM_ROWS = int(1e7)\n",
    "DATA_SEED = 19421127\n",
    "\n",
    "# generate data\n",
    "np.random.seed(DATA_SEED)\n",
    "data = np.random.rand(NUM_ROWS, len(COLUMNS))\n",
    "df = pd.DataFrame(data, columns=COLUMNS)\n",
    "\n",
    "df.head()"
   ]
  },
  {
   "cell_type": "markdown",
   "id": "a18d2d8c",
   "metadata": {},
   "source": [
    "### `generate_rules()`\n",
    "\n",
    "Rules are defined by a specification that describes which columns to blind using a linear transform: `blinded_data = scale * data + offset`.  \n",
    "\n",
    "The `offset` and `scale` parameters can be fixed or randomly sampled from a given range.  Randomness ensures the transform is not known to the user.\n",
    "\n",
    "The simplest way to specify rules is with a column name (or a list of names) and global ranges for `offset` and/or `scale`."
   ]
  },
  {
   "cell_type": "code",
   "execution_count": null,
   "id": "a2c57983-8204-48af-94e9-ed6e568ea055",
   "metadata": {},
   "outputs": [],
   "source": [
    "# list of columns with global offset and scale ranges\n",
    "rules = bd.generate_rules(\"A\", offset=(10.0, 20.0), random_seed=42)"
   ]
  },
  {
   "cell_type": "markdown",
   "id": "92a9040c",
   "metadata": {},
   "source": [
    "### `inspect()`\n",
    "\n",
    "You shouldn't be looking at the rule parameters.  But maybe you have a legit reason, in which case, use `inspect()`."
   ]
  },
  {
   "cell_type": "code",
   "execution_count": null,
   "id": "bbe82b03-770b-4265-aa6d-9c6030c861dc",
   "metadata": {},
   "outputs": [],
   "source": [
    "bd.inspect(rules)"
   ]
  },
  {
   "cell_type": "markdown",
   "id": "bbe5ca54",
   "metadata": {},
   "source": [
    "It's not necessary to save the rules because they can be recreated by fixing the `random_seed`.  But if you really want to store them, consider using `dill` (regular pickling doesn't work with lambda functions).  Or you could save the output of `inspect()`.\n"
   ]
  },
  {
   "cell_type": "markdown",
   "id": "6c5b63d8",
   "metadata": {},
   "source": [
    "###  `blind()`"
   ]
  },
  {
   "cell_type": "code",
   "execution_count": null,
   "id": "b2160833-4d44-4014-a84d-23f3b167e0ae",
   "metadata": {},
   "outputs": [],
   "source": [
    "# blind data\n",
    "df1 = bd.blind(df, rules)\n",
    "df1.head()"
   ]
  },
  {
   "cell_type": "markdown",
   "id": "40e4067f",
   "metadata": {},
   "source": [
    "### `@obfuscate`\n",
    "\n",
    "If an experiment generates many different data files, it might be convenient to develop a custom class with methods for accessing each component. The decorator `@obfuscate` adds blinding to functions or methods that return a pandas DataFrame as the first or only result.  The method must accept the keyword argument `transform` (or `**kwargs`)."
   ]
  },
  {
   "cell_type": "code",
   "execution_count": null,
   "id": "a0de2c6d-131b-4268-8255-df8391b658d9",
   "metadata": {},
   "outputs": [],
   "source": [
    "from blindat import obfuscate\n",
    "\n",
    "\n",
    "class MeasurementData:\n",
    "    def __init__(self, path=None):\n",
    "        self.path = path  # path to data directory\n",
    "        self._sim()\n",
    "\n",
    "    def _sim(self):\n",
    "        np.random.seed(DATA_SEED)\n",
    "        self._columns = COLUMNS\n",
    "        self._data = np.random.rand(NUM_ROWS, len(self._columns))\n",
    "\n",
    "    @obfuscate\n",
    "    def load_dataframe(self, transform=None):\n",
    "        df = pd.DataFrame(self._data, columns=self._columns)\n",
    "        return df\n",
    "\n",
    "\n",
    "# initialize\n",
    "measurement = MeasurementData()"
   ]
  },
  {
   "cell_type": "code",
   "execution_count": null,
   "id": "e591550c-f510-4d4c-8cfa-d88f30561a49",
   "metadata": {},
   "outputs": [],
   "source": [
    "# load dataframe\n",
    "measurement.load_dataframe(transform=rules).head()"
   ]
  },
  {
   "cell_type": "code",
   "execution_count": null,
   "id": "719bbb48-6765-4545-bfa7-457a84390a67",
   "metadata": {},
   "outputs": [],
   "source": [
    "# original data\n",
    "measurement.load_dataframe().head()"
   ]
  },
  {
   "cell_type": "markdown",
   "id": "62947ac5",
   "metadata": {},
   "source": [
    "This example requires the user to explicitly opt-in to blinding their data (zen of python #2).  \n",
    "\n",
    "For consistency and to save the user a little effort you could include a `default_rules()` function in your data-access module.  This might be appropriate if columns with certain names always have similar values and should always be blinded."
   ]
  },
  {
   "cell_type": "code",
   "execution_count": null,
   "id": "98fdbf95-162d-42bb-8cf1-5ab16599124c",
   "metadata": {},
   "outputs": [],
   "source": [
    "# in your data access module\n",
    "DEFAULT_SPECIFICATION = {\n",
    "    \"A\": {\"offset\": (10.0, 20.0), \"scale\": (0.9, 1.1)},\n",
    "}\n",
    "\n",
    "\n",
    "def default_rules(random_seed=None):\n",
    "    return bd.generate_rules(DEFAULT_SPECIFICATION, random_seed=random_seed)\n",
    "\n",
    "\n",
    "# in your analysis notebook\n",
    "measurement.load_dataframe(transform=default_rules(42)).head()"
   ]
  },
  {
   "cell_type": "markdown",
   "id": "5289983d",
   "metadata": {},
   "source": [
    "Alternatively, one could hard-code rules into a data-access class.  However, forgetting about this could be disastrous! Consider using an unambiguously named subclass and/or warnings."
   ]
  },
  {
   "cell_type": "code",
   "execution_count": null,
   "id": "8da3729d-b39c-43e6-8f8c-ebf98cf9ed1e",
   "metadata": {},
   "outputs": [],
   "source": [
    "import warnings\n",
    "from blindat import blind\n",
    "\n",
    "\n",
    "class BlindData(MeasurementData):\n",
    "    def __init__(self, *args, random_seed=None, **kwargs):\n",
    "        super().__init__(*args, **kwargs)\n",
    "        self._rules = default_rules(random_seed)\n",
    "\n",
    "    def _secret_data(self):\n",
    "        return super().load_dataframe()\n",
    "\n",
    "    def load_dataframe(self):\n",
    "        warnings.warn(\"data may be altered to mitigate experimenter bias.\")\n",
    "        return blind(self._secret_data(), rules=self._rules)\n",
    "\n",
    "\n",
    "blind_data = BlindData(random_seed=42)\n",
    "\n",
    "# blind by default\n",
    "blind_data.load_dataframe().head()"
   ]
  },
  {
   "cell_type": "code",
   "execution_count": null,
   "id": "2675964c-a511-4e9a-a123-fb4b8b6b8a45",
   "metadata": {},
   "outputs": [],
   "source": []
  }
 ],
 "metadata": {
  "kernelspec": {
   "display_name": "Python (Sci)",
   "language": "python",
   "name": "sci"
  },
  "language_info": {
   "codemirror_mode": {
    "name": "ipython",
    "version": 3
   },
   "file_extension": ".py",
   "mimetype": "text/x-python",
   "name": "python",
   "nbconvert_exporter": "python",
   "pygments_lexer": "ipython3",
   "version": "3.13.2"
  }
 },
 "nbformat": 4,
 "nbformat_minor": 5
}
