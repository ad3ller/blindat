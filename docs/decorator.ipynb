{
 "cells": [
  {
   "cell_type": "code",
   "execution_count": 1,
   "id": "e87822be-a475-4ab8-9ba0-04d4d7497e1f",
   "metadata": {},
   "outputs": [],
   "source": [
    "import numpy as np\n",
    "import pandas as pd\n",
    "import blindat as bd"
   ]
  },
  {
   "cell_type": "markdown",
   "id": "40e4067f",
   "metadata": {},
   "source": [
    "### `@blindat`\n",
    "\n",
    "If an experiment generates many different data files, it might be convenient to develop a custom class with methods for accessing each component. The decorator `@blindat` adds blinding to functions or methods that return a pandas DataFrame as the first or only result.  The method must accept the keyword argument `rules` (or `**kwargs`)."
   ]
  },
  {
   "cell_type": "code",
   "execution_count": 2,
   "id": "a0de2c6d-131b-4268-8255-df8391b658d9",
   "metadata": {},
   "outputs": [],
   "source": [
    "from blindat import blindat\n",
    "\n",
    "# simulation params\n",
    "COLUMNS = [\"A\", \"B\", \"C\", \"D\"]\n",
    "NUM_ROWS = int(1e7)\n",
    "DATA_SEED = 19421127\n",
    "\n",
    "\n",
    "class Measurement:\n",
    "    def __init__(self, path=None):\n",
    "        self.path = path  # path to data directory\n",
    "        self._sim()\n",
    "\n",
    "    def _sim(self):\n",
    "        np.random.seed(DATA_SEED)\n",
    "        data = np.random.rand(NUM_ROWS, len(COLUMNS))\n",
    "        self._df = pd.DataFrame(data, columns=COLUMNS)\n",
    "\n",
    "    def load_dataframe(self):\n",
    "        return self._df\n",
    "\n",
    "    @blindat\n",
    "    def blind_data(self, rules=None):\n",
    "        return self.load_dataframe()\n",
    "\n",
    "\n",
    "# initialize\n",
    "measurement = Measurement()"
   ]
  },
  {
   "cell_type": "code",
   "execution_count": null,
   "id": "e591550c-f510-4d4c-8cfa-d88f30561a49",
   "metadata": {},
   "outputs": [],
   "source": [
    "# blind data\n",
    "rules = bd.generate_rules(\"A\", offset=(10.0, 20.0), random_seed=42)\n",
    "measurement.blind_data(rules=rules).head()"
   ]
  },
  {
   "cell_type": "code",
   "execution_count": null,
   "id": "719bbb48-6765-4545-bfa7-457a84390a67",
   "metadata": {},
   "outputs": [],
   "source": [
    "# original data\n",
    "measurement.load_dataframe().head()"
   ]
  },
  {
   "cell_type": "code",
   "execution_count": null,
   "id": "f698f007-344e-40d6-942a-bf5841925430",
   "metadata": {},
   "outputs": [],
   "source": [
    "# ... or\n",
    "measurement.blind_data(None).head()"
   ]
  },
  {
   "cell_type": "markdown",
   "id": "62947ac5",
   "metadata": {},
   "source": [
    "This example requires the user to explicitly opt-in to blinding their data (zen of python #2).  \n",
    "\n",
    "For consistency and to save the user a little effort you could include a `default_rules()` function in your data-access module.  This might be appropriate if columns with certain names always have similar values and should always be blinded."
   ]
  },
  {
   "cell_type": "code",
   "execution_count": null,
   "id": "98fdbf95-162d-42bb-8cf1-5ab16599124c",
   "metadata": {},
   "outputs": [],
   "source": [
    "# in your data access module\n",
    "DEFAULT_SPECIFICATION = {\n",
    "    \"A\": {\"offset\": (10.0, 20.0), \"scale\": 1.0},\n",
    "}\n",
    "\n",
    "\n",
    "def my_rules(random_seed=None):\n",
    "    return bd.generate_rules(DEFAULT_SPECIFICATION, random_seed=random_seed)\n",
    "\n",
    "\n",
    "# in your analysis notebook\n",
    "measurement.blind_data(rules=my_rules(99)).head()"
   ]
  },
  {
   "cell_type": "markdown",
   "id": "5289983d",
   "metadata": {},
   "source": [
    "Alternatively, hard-code the rules into a data-access class.  \n",
    "\n",
    "Forgetting about this could be problematic, so consider using an unambiguously named subclass and/or warnings."
   ]
  },
  {
   "cell_type": "code",
   "execution_count": null,
   "id": "8da3729d-b39c-43e6-8f8c-ebf98cf9ed1e",
   "metadata": {},
   "outputs": [],
   "source": [
    "import warnings\n",
    "\n",
    "DEFAULT_RULES = my_rules(42)\n",
    "\n",
    "\n",
    "class BlindMeasurement(Measurement):\n",
    "    def __init__(self, *args, **kwargs):\n",
    "        super().__init__(*args, **kwargs)\n",
    "\n",
    "    @blindat(default_rules=DEFAULT_RULES)\n",
    "    def load_dataframe(self):\n",
    "        warnings.warn(\"data may be altered to mitigate experimenter bias.\")\n",
    "        return super().load_dataframe()\n",
    "\n",
    "\n",
    "blind_measurement = BlindMeasurement()\n",
    "\n",
    "# blind by default\n",
    "blind_measurement.load_dataframe().head()"
   ]
  },
  {
   "cell_type": "code",
   "execution_count": null,
   "id": "2675964c-a511-4e9a-a123-fb4b8b6b8a45",
   "metadata": {},
   "outputs": [],
   "source": [
    "# original, overwrite default_rules\n",
    "blind_measurement.load_dataframe(rules=None).head()"
   ]
  },
  {
   "cell_type": "code",
   "execution_count": null,
   "id": "98fee0ee-97c0-4b71-91f1-65a1d6267974",
   "metadata": {},
   "outputs": [],
   "source": []
  }
 ],
 "metadata": {
  "kernelspec": {
   "display_name": "sci",
   "language": "python",
   "name": "python3"
  },
  "language_info": {
   "codemirror_mode": {
    "name": "ipython",
    "version": 3
   },
   "file_extension": ".py",
   "mimetype": "text/x-python",
   "name": "python",
   "nbconvert_exporter": "python",
   "pygments_lexer": "ipython3",
   "version": "3.13.2"
  }
 },
 "nbformat": 4,
 "nbformat_minor": 5
}
