{
 "cells": [
  {
   "cell_type": "code",
   "execution_count": null,
   "id": "e87822be-a475-4ab8-9ba0-04d4d7497e1f",
   "metadata": {},
   "outputs": [],
   "source": [
    "import numpy as np\n",
    "import pandas as pd\n",
    "import blindat as bd"
   ]
  },
  {
   "cell_type": "code",
   "execution_count": null,
   "id": "6e346537",
   "metadata": {},
   "outputs": [],
   "source": [
    "# data params\n",
    "COLUMNS = [\"A\", \"B\", \"C\", \"D\"]\n",
    "NUM_ROWS = int(1e7)\n",
    "DATA_SEED = 19421127\n",
    "\n",
    "# generate data\n",
    "np.random.seed(DATA_SEED)\n",
    "data = np.random.randn(NUM_ROWS, len(COLUMNS)) * np.random.rand(\n",
    "    len(COLUMNS)\n",
    ") + np.random.rand(len(COLUMNS))\n",
    "df = pd.DataFrame(data, columns=COLUMNS)\n",
    "\n",
    "df.head()"
   ]
  },
  {
   "cell_type": "code",
   "execution_count": null,
   "id": "7a497077",
   "metadata": {},
   "outputs": [],
   "source": [
    "df[\"A\"].describe()"
   ]
  },
  {
   "cell_type": "markdown",
   "id": "40e4067f",
   "metadata": {},
   "source": [
    "### `norm_rules`\n",
    "\n",
    "The `norm_rules()` function create transformation rules that normalize data for a mean value of zero and and standard deviation of one."
   ]
  },
  {
   "cell_type": "code",
   "execution_count": null,
   "id": "d869201d",
   "metadata": {},
   "outputs": [],
   "source": [
    "norm = bd.norm_rules(df, \"A\")\n",
    "\n",
    "df1 = bd.blind(df, norm)\n",
    "df1.head()"
   ]
  },
  {
   "cell_type": "markdown",
   "id": "770f36b7",
   "metadata": {},
   "source": [
    "The function `normalize()` combines these two steps. "
   ]
  },
  {
   "cell_type": "code",
   "execution_count": null,
   "id": "cbaee2e2",
   "metadata": {},
   "outputs": [],
   "source": [
    "bd.normalize(df, \"A\").head()"
   ]
  },
  {
   "cell_type": "code",
   "execution_count": null,
   "id": "2b2eaaf9",
   "metadata": {},
   "outputs": [],
   "source": [
    "df1[\"A\"].describe()"
   ]
  },
  {
   "cell_type": "code",
   "execution_count": null,
   "id": "458bbbcc",
   "metadata": {},
   "outputs": [],
   "source": []
  }
 ],
 "metadata": {
  "kernelspec": {
   "display_name": "sci",
   "language": "python",
   "name": "python3"
  },
  "language_info": {
   "codemirror_mode": {
    "name": "ipython",
    "version": 3
   },
   "file_extension": ".py",
   "mimetype": "text/x-python",
   "name": "python",
   "nbconvert_exporter": "python",
   "pygments_lexer": "ipython3",
   "version": "3.13.2"
  }
 },
 "nbformat": 4,
 "nbformat_minor": 5
}
